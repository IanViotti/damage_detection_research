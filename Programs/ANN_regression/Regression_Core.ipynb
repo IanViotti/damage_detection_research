{
 "cells": [
  {
   "cell_type": "markdown",
   "id": "10c377c2-68af-4504-8dc0-a6caa1c690df",
   "metadata": {},
   "source": [
    "# Neural Network Regression to Locate and Size Damage in Core\n",
    "\n",
    "*Ian Viotti, 2022*\n",
    "\n",
    "---"
   ]
  },
  {
   "cell_type": "code",
   "execution_count": 288,
   "id": "5a4ce943-41f8-4097-bf98-93fc3cbffd9c",
   "metadata": {},
   "outputs": [],
   "source": [
    "from aux_fun import plot_damage, plot_damage2, get_core_regr_data\n",
    "\n",
    "\n",
    "import pandas as pd\n",
    "import numpy as np\n",
    "import matplotlib.pyplot as plt\n",
    "\n",
    "from sklearn.neural_network import MLPRegressor\n",
    "from sklearn.model_selection import train_test_split\n",
    "from sklearn.model_selection import GridSearchCV\n",
    "from sklearn import metrics\n",
    "from sklearn import preprocessing\n",
    "\n",
    "import matplotlib\n",
    "import seaborn as sns\n",
    "\n",
    "sns.set_theme()\n",
    "plt.rcParams[\"image.cmap\"] = \"Set2\"\n",
    "plt.rcParams['axes.prop_cycle'] = plt.cycler(color=plt.cm.Set2.colors)\n",
    "matplotlib.rcParams.update({'font.size': 22})"
   ]
  },
  {
   "cell_type": "markdown",
   "id": "b7655db7-2930-4fa9-9d84-3f814e38bdf8",
   "metadata": {},
   "source": [
    "# Data Aquisition"
   ]
  },
  {
   "cell_type": "code",
   "execution_count": 3,
   "id": "8006c587-090b-4715-871b-bc3d24795983",
   "metadata": {},
   "outputs": [],
   "source": [
    "core_df = pd.read_csv('core_damage_data.csv')"
   ]
  },
  {
   "cell_type": "markdown",
   "id": "7220f744-52bd-4388-b7cb-cda6085bbb20",
   "metadata": {},
   "source": [
    "# Data Pre-Processing"
   ]
  },
  {
   "cell_type": "code",
   "execution_count": 4,
   "id": "612a61df-45c7-4360-94ce-95526e921288",
   "metadata": {
    "tags": []
   },
   "outputs": [],
   "source": [
    "core_df = core_df.drop(['Unnamed: 0', '5', '6', '7', '8', '9'], axis = 1)"
   ]
  },
  {
   "cell_type": "code",
   "execution_count": 5,
   "id": "1e57291d-77bc-4d37-b414-8c7c52789352",
   "metadata": {},
   "outputs": [],
   "source": [
    "cols = ['pos x','pos y','theta_z','c','r', 'pos_z', 'theta_y', '0', '1', '2', '3','4', 'UZ - N1 M1','UZ - N1 M2','UZ - N1 M3','UZ - N1 M4', 'UZ - N2 M4','UZ - N3 M4','UZ - N4 M4','UZ - N2 M3','UZ - N3 M3','UZ - N4 M3','UZ - N2 M2','UZ - N3 M2','UZ - N4 M2','UZ - N2 M1','UZ - N3 M1','UZ - N4 M1']"
   ]
  },
  {
   "cell_type": "code",
   "execution_count": 6,
   "id": "6fac0f2b-6a20-44dd-b528-58bf18041fda",
   "metadata": {},
   "outputs": [
    {
     "data": {
      "text/html": [
       "<div>\n",
       "<style scoped>\n",
       "    .dataframe tbody tr th:only-of-type {\n",
       "        vertical-align: middle;\n",
       "    }\n",
       "\n",
       "    .dataframe tbody tr th {\n",
       "        vertical-align: top;\n",
       "    }\n",
       "\n",
       "    .dataframe thead th {\n",
       "        text-align: right;\n",
       "    }\n",
       "</style>\n",
       "<table border=\"1\" class=\"dataframe\">\n",
       "  <thead>\n",
       "    <tr style=\"text-align: right;\">\n",
       "      <th></th>\n",
       "      <th>pos x</th>\n",
       "      <th>pos y</th>\n",
       "      <th>theta_z</th>\n",
       "      <th>c</th>\n",
       "      <th>r</th>\n",
       "      <th>pos_z</th>\n",
       "      <th>theta_y</th>\n",
       "      <th>0</th>\n",
       "      <th>1</th>\n",
       "      <th>2</th>\n",
       "      <th>...</th>\n",
       "      <th>UZ - N4 M4</th>\n",
       "      <th>UZ - N2 M3</th>\n",
       "      <th>UZ - N3 M3</th>\n",
       "      <th>UZ - N4 M3</th>\n",
       "      <th>UZ - N2 M2</th>\n",
       "      <th>UZ - N3 M2</th>\n",
       "      <th>UZ - N4 M2</th>\n",
       "      <th>UZ - N2 M1</th>\n",
       "      <th>UZ - N3 M1</th>\n",
       "      <th>UZ - N4 M1</th>\n",
       "    </tr>\n",
       "  </thead>\n",
       "  <tbody>\n",
       "    <tr>\n",
       "      <th>0</th>\n",
       "      <td>0.053986</td>\n",
       "      <td>0.099418</td>\n",
       "      <td>21.772613</td>\n",
       "      <td>0.029013</td>\n",
       "      <td>0.235321</td>\n",
       "      <td>0.006292</td>\n",
       "      <td>0.757391</td>\n",
       "      <td>209.60</td>\n",
       "      <td>348.99</td>\n",
       "      <td>827.67</td>\n",
       "      <td>...</td>\n",
       "      <td>1.892296</td>\n",
       "      <td>-2.763059</td>\n",
       "      <td>-2.886250</td>\n",
       "      <td>-2.820040</td>\n",
       "      <td>1.437672</td>\n",
       "      <td>1.319039</td>\n",
       "      <td>1.628142</td>\n",
       "      <td>2.012629</td>\n",
       "      <td>1.925631</td>\n",
       "      <td>1.988941</td>\n",
       "    </tr>\n",
       "    <tr>\n",
       "      <th>1</th>\n",
       "      <td>0.046486</td>\n",
       "      <td>0.064694</td>\n",
       "      <td>129.592918</td>\n",
       "      <td>0.023175</td>\n",
       "      <td>0.230222</td>\n",
       "      <td>0.006206</td>\n",
       "      <td>-6.016951</td>\n",
       "      <td>209.63</td>\n",
       "      <td>348.97</td>\n",
       "      <td>827.31</td>\n",
       "      <td>...</td>\n",
       "      <td>3.372889</td>\n",
       "      <td>-3.437339</td>\n",
       "      <td>-3.445832</td>\n",
       "      <td>-3.415831</td>\n",
       "      <td>1.657951</td>\n",
       "      <td>1.643719</td>\n",
       "      <td>1.481683</td>\n",
       "      <td>1.175645</td>\n",
       "      <td>1.188745</td>\n",
       "      <td>1.141965</td>\n",
       "    </tr>\n",
       "    <tr>\n",
       "      <th>2</th>\n",
       "      <td>0.106295</td>\n",
       "      <td>0.141903</td>\n",
       "      <td>157.583248</td>\n",
       "      <td>0.026992</td>\n",
       "      <td>0.337651</td>\n",
       "      <td>0.006279</td>\n",
       "      <td>5.351441</td>\n",
       "      <td>209.68</td>\n",
       "      <td>349.01</td>\n",
       "      <td>826.31</td>\n",
       "      <td>...</td>\n",
       "      <td>0.002769</td>\n",
       "      <td>0.109114</td>\n",
       "      <td>0.224206</td>\n",
       "      <td>-0.534026</td>\n",
       "      <td>0.210036</td>\n",
       "      <td>0.120373</td>\n",
       "      <td>-0.390004</td>\n",
       "      <td>3.150708</td>\n",
       "      <td>3.181262</td>\n",
       "      <td>2.953393</td>\n",
       "    </tr>\n",
       "    <tr>\n",
       "      <th>3</th>\n",
       "      <td>0.124439</td>\n",
       "      <td>0.146964</td>\n",
       "      <td>114.484708</td>\n",
       "      <td>0.019425</td>\n",
       "      <td>0.285779</td>\n",
       "      <td>0.006120</td>\n",
       "      <td>-5.400418</td>\n",
       "      <td>209.69</td>\n",
       "      <td>349.04</td>\n",
       "      <td>827.21</td>\n",
       "      <td>...</td>\n",
       "      <td>-0.229701</td>\n",
       "      <td>0.645051</td>\n",
       "      <td>0.649874</td>\n",
       "      <td>0.019394</td>\n",
       "      <td>-1.255945</td>\n",
       "      <td>-1.151102</td>\n",
       "      <td>-1.252049</td>\n",
       "      <td>3.336511</td>\n",
       "      <td>3.338517</td>\n",
       "      <td>3.142332</td>\n",
       "    </tr>\n",
       "    <tr>\n",
       "      <th>4</th>\n",
       "      <td>0.046067</td>\n",
       "      <td>0.074622</td>\n",
       "      <td>6.789764</td>\n",
       "      <td>0.023551</td>\n",
       "      <td>0.319996</td>\n",
       "      <td>0.006146</td>\n",
       "      <td>7.084180</td>\n",
       "      <td>209.36</td>\n",
       "      <td>348.40</td>\n",
       "      <td>826.03</td>\n",
       "      <td>...</td>\n",
       "      <td>-3.456801</td>\n",
       "      <td>-3.324298</td>\n",
       "      <td>-3.421178</td>\n",
       "      <td>-3.321814</td>\n",
       "      <td>1.234388</td>\n",
       "      <td>1.408547</td>\n",
       "      <td>1.490102</td>\n",
       "      <td>1.188032</td>\n",
       "      <td>1.321585</td>\n",
       "      <td>1.108800</td>\n",
       "    </tr>\n",
       "    <tr>\n",
       "      <th>...</th>\n",
       "      <td>...</td>\n",
       "      <td>...</td>\n",
       "      <td>...</td>\n",
       "      <td>...</td>\n",
       "      <td>...</td>\n",
       "      <td>...</td>\n",
       "      <td>...</td>\n",
       "      <td>...</td>\n",
       "      <td>...</td>\n",
       "      <td>...</td>\n",
       "      <td>...</td>\n",
       "      <td>...</td>\n",
       "      <td>...</td>\n",
       "      <td>...</td>\n",
       "      <td>...</td>\n",
       "      <td>...</td>\n",
       "      <td>...</td>\n",
       "      <td>...</td>\n",
       "      <td>...</td>\n",
       "      <td>...</td>\n",
       "      <td>...</td>\n",
       "    </tr>\n",
       "    <tr>\n",
       "      <th>829</th>\n",
       "      <td>0.069058</td>\n",
       "      <td>0.109741</td>\n",
       "      <td>8.986704</td>\n",
       "      <td>0.017667</td>\n",
       "      <td>0.304079</td>\n",
       "      <td>0.006075</td>\n",
       "      <td>-4.303691</td>\n",
       "      <td>209.66</td>\n",
       "      <td>349.04</td>\n",
       "      <td>827.41</td>\n",
       "      <td>...</td>\n",
       "      <td>1.214017</td>\n",
       "      <td>-2.417339</td>\n",
       "      <td>-2.509044</td>\n",
       "      <td>-2.549314</td>\n",
       "      <td>1.005576</td>\n",
       "      <td>0.959320</td>\n",
       "      <td>1.205454</td>\n",
       "      <td>2.187320</td>\n",
       "      <td>2.139888</td>\n",
       "      <td>2.125614</td>\n",
       "    </tr>\n",
       "    <tr>\n",
       "      <th>830</th>\n",
       "      <td>0.145052</td>\n",
       "      <td>0.158334</td>\n",
       "      <td>158.020320</td>\n",
       "      <td>0.025111</td>\n",
       "      <td>0.321630</td>\n",
       "      <td>0.006272</td>\n",
       "      <td>3.409136</td>\n",
       "      <td>209.65</td>\n",
       "      <td>348.86</td>\n",
       "      <td>826.45</td>\n",
       "      <td>...</td>\n",
       "      <td>-0.804690</td>\n",
       "      <td>1.327638</td>\n",
       "      <td>0.960653</td>\n",
       "      <td>0.434422</td>\n",
       "      <td>-2.084347</td>\n",
       "      <td>-2.067723</td>\n",
       "      <td>-2.532130</td>\n",
       "      <td>3.561565</td>\n",
       "      <td>3.460975</td>\n",
       "      <td>3.316413</td>\n",
       "    </tr>\n",
       "    <tr>\n",
       "      <th>831</th>\n",
       "      <td>0.076176</td>\n",
       "      <td>0.149468</td>\n",
       "      <td>60.156455</td>\n",
       "      <td>0.027175</td>\n",
       "      <td>0.223895</td>\n",
       "      <td>0.006097</td>\n",
       "      <td>-4.257602</td>\n",
       "      <td>209.70</td>\n",
       "      <td>349.03</td>\n",
       "      <td>827.05</td>\n",
       "      <td>...</td>\n",
       "      <td>-0.282858</td>\n",
       "      <td>1.160423</td>\n",
       "      <td>1.102713</td>\n",
       "      <td>0.206400</td>\n",
       "      <td>0.995673</td>\n",
       "      <td>1.056274</td>\n",
       "      <td>1.173763</td>\n",
       "      <td>3.497853</td>\n",
       "      <td>3.479247</td>\n",
       "      <td>3.204606</td>\n",
       "    </tr>\n",
       "    <tr>\n",
       "      <th>832</th>\n",
       "      <td>0.091827</td>\n",
       "      <td>0.150944</td>\n",
       "      <td>25.092292</td>\n",
       "      <td>0.019505</td>\n",
       "      <td>0.214696</td>\n",
       "      <td>0.006414</td>\n",
       "      <td>-3.704197</td>\n",
       "      <td>209.69</td>\n",
       "      <td>349.04</td>\n",
       "      <td>827.30</td>\n",
       "      <td>...</td>\n",
       "      <td>-0.163043</td>\n",
       "      <td>0.656467</td>\n",
       "      <td>0.597719</td>\n",
       "      <td>0.584521</td>\n",
       "      <td>-0.041910</td>\n",
       "      <td>0.038524</td>\n",
       "      <td>0.428599</td>\n",
       "      <td>3.338000</td>\n",
       "      <td>3.319470</td>\n",
       "      <td>3.308303</td>\n",
       "    </tr>\n",
       "    <tr>\n",
       "      <th>833</th>\n",
       "      <td>0.144590</td>\n",
       "      <td>0.084858</td>\n",
       "      <td>141.302281</td>\n",
       "      <td>0.028626</td>\n",
       "      <td>0.313471</td>\n",
       "      <td>0.006106</td>\n",
       "      <td>5.602321</td>\n",
       "      <td>209.50</td>\n",
       "      <td>348.92</td>\n",
       "      <td>827.80</td>\n",
       "      <td>...</td>\n",
       "      <td>-2.386689</td>\n",
       "      <td>-3.192306</td>\n",
       "      <td>-3.219202</td>\n",
       "      <td>-3.316224</td>\n",
       "      <td>-1.198611</td>\n",
       "      <td>-1.178963</td>\n",
       "      <td>-1.244969</td>\n",
       "      <td>1.666354</td>\n",
       "      <td>1.624305</td>\n",
       "      <td>1.415340</td>\n",
       "    </tr>\n",
       "  </tbody>\n",
       "</table>\n",
       "<p>834 rows × 28 columns</p>\n",
       "</div>"
      ],
      "text/plain": [
       "        pos x     pos y     theta_z         c         r     pos_z   theta_y  \\\n",
       "0    0.053986  0.099418   21.772613  0.029013  0.235321  0.006292  0.757391   \n",
       "1    0.046486  0.064694  129.592918  0.023175  0.230222  0.006206 -6.016951   \n",
       "2    0.106295  0.141903  157.583248  0.026992  0.337651  0.006279  5.351441   \n",
       "3    0.124439  0.146964  114.484708  0.019425  0.285779  0.006120 -5.400418   \n",
       "4    0.046067  0.074622    6.789764  0.023551  0.319996  0.006146  7.084180   \n",
       "..        ...       ...         ...       ...       ...       ...       ...   \n",
       "829  0.069058  0.109741    8.986704  0.017667  0.304079  0.006075 -4.303691   \n",
       "830  0.145052  0.158334  158.020320  0.025111  0.321630  0.006272  3.409136   \n",
       "831  0.076176  0.149468   60.156455  0.027175  0.223895  0.006097 -4.257602   \n",
       "832  0.091827  0.150944   25.092292  0.019505  0.214696  0.006414 -3.704197   \n",
       "833  0.144590  0.084858  141.302281  0.028626  0.313471  0.006106  5.602321   \n",
       "\n",
       "          0       1       2  ...  UZ - N4 M4  UZ - N2 M3  UZ - N3 M3  \\\n",
       "0    209.60  348.99  827.67  ...    1.892296   -2.763059   -2.886250   \n",
       "1    209.63  348.97  827.31  ...    3.372889   -3.437339   -3.445832   \n",
       "2    209.68  349.01  826.31  ...    0.002769    0.109114    0.224206   \n",
       "3    209.69  349.04  827.21  ...   -0.229701    0.645051    0.649874   \n",
       "4    209.36  348.40  826.03  ...   -3.456801   -3.324298   -3.421178   \n",
       "..      ...     ...     ...  ...         ...         ...         ...   \n",
       "829  209.66  349.04  827.41  ...    1.214017   -2.417339   -2.509044   \n",
       "830  209.65  348.86  826.45  ...   -0.804690    1.327638    0.960653   \n",
       "831  209.70  349.03  827.05  ...   -0.282858    1.160423    1.102713   \n",
       "832  209.69  349.04  827.30  ...   -0.163043    0.656467    0.597719   \n",
       "833  209.50  348.92  827.80  ...   -2.386689   -3.192306   -3.219202   \n",
       "\n",
       "     UZ - N4 M3  UZ - N2 M2  UZ - N3 M2  UZ - N4 M2  UZ - N2 M1  UZ - N3 M1  \\\n",
       "0     -2.820040    1.437672    1.319039    1.628142    2.012629    1.925631   \n",
       "1     -3.415831    1.657951    1.643719    1.481683    1.175645    1.188745   \n",
       "2     -0.534026    0.210036    0.120373   -0.390004    3.150708    3.181262   \n",
       "3      0.019394   -1.255945   -1.151102   -1.252049    3.336511    3.338517   \n",
       "4     -3.321814    1.234388    1.408547    1.490102    1.188032    1.321585   \n",
       "..          ...         ...         ...         ...         ...         ...   \n",
       "829   -2.549314    1.005576    0.959320    1.205454    2.187320    2.139888   \n",
       "830    0.434422   -2.084347   -2.067723   -2.532130    3.561565    3.460975   \n",
       "831    0.206400    0.995673    1.056274    1.173763    3.497853    3.479247   \n",
       "832    0.584521   -0.041910    0.038524    0.428599    3.338000    3.319470   \n",
       "833   -3.316224   -1.198611   -1.178963   -1.244969    1.666354    1.624305   \n",
       "\n",
       "     UZ - N4 M1  \n",
       "0      1.988941  \n",
       "1      1.141965  \n",
       "2      2.953393  \n",
       "3      3.142332  \n",
       "4      1.108800  \n",
       "..          ...  \n",
       "829    2.125614  \n",
       "830    3.316413  \n",
       "831    3.204606  \n",
       "832    3.308303  \n",
       "833    1.415340  \n",
       "\n",
       "[834 rows x 28 columns]"
      ]
     },
     "execution_count": 6,
     "metadata": {},
     "output_type": "execute_result"
    }
   ],
   "source": [
    "core_df = core_df[cols]\n",
    "core_df"
   ]
  },
  {
   "cell_type": "code",
   "execution_count": 7,
   "id": "f920baa7-e6c6-4fd7-a65a-223364f06524",
   "metadata": {},
   "outputs": [],
   "source": [
    "X_raw = core_df.values[:,7:]\n",
    "y_raw = core_df.values[:,:7]\n",
    "\n",
    "std_x = preprocessing.StandardScaler().fit(X_raw)\n",
    "std_y = preprocessing.StandardScaler().fit(y_raw)\n",
    "\n",
    "X = std_x.transform(X_raw)\n",
    "y = std_y.transform(y_raw)"
   ]
  },
  {
   "cell_type": "markdown",
   "id": "7f7e0f94-46a1-4a10-8d96-63f37ac78a9c",
   "metadata": {},
   "source": [
    "# Model Training"
   ]
  },
  {
   "cell_type": "code",
   "execution_count": 8,
   "id": "3ea35ad5-eed6-4292-b1ef-6342867ffc3e",
   "metadata": {},
   "outputs": [],
   "source": [
    "X_train, X_test, y_train, y_test = train_test_split(X, y,\n",
    "                                                    random_state=1,\n",
    "                                                    test_size = 0.3)\n",
    "\n",
    "MLPR = MLPRegressor(random_state=1,\n",
    "                     activation = 'tanh',\n",
    "                     alpha = 0.6,\n",
    "                     hidden_layer_sizes = (60, 50),\n",
    "                     learning_rate = 'constant',\n",
    "                     max_iter = 1000,\n",
    "                     solver = 'adam'\n",
    "                    )\n",
    "\n",
    "regr = MLPR.fit(X_train, y_train)"
   ]
  },
  {
   "cell_type": "code",
   "execution_count": 8,
   "id": "20a4821e-3a00-4dc1-bd88-be0d084c583b",
   "metadata": {},
   "outputs": [
    {
     "data": {
      "text/plain": [
       "0.47995920581299206"
      ]
     },
     "execution_count": 8,
     "metadata": {},
     "output_type": "execute_result"
    }
   ],
   "source": [
    "regr.score(X_test, y_test)"
   ]
  },
  {
   "cell_type": "code",
   "execution_count": null,
   "id": "2c0b93be-ec39-43f6-bec9-b36d513bcc08",
   "metadata": {},
   "outputs": [],
   "source": [
    "a"
   ]
  },
  {
   "cell_type": "code",
   "execution_count": null,
   "id": "a7e64782-ca4c-4278-acea-38ea5646eb7a",
   "metadata": {},
   "outputs": [],
   "source": [
    "1.95*np.sqrt()"
   ]
  },
  {
   "cell_type": "markdown",
   "id": "25611384-9e32-419f-a986-a7606dc555d1",
   "metadata": {},
   "source": [
    "## Model Tuning"
   ]
  },
  {
   "cell_type": "code",
   "execution_count": null,
   "id": "5a652fa7-c028-4cee-b842-028290049f7f",
   "metadata": {},
   "outputs": [],
   "source": [
    "MLPR_tuning = MLPRegressor(random_state=1,max_iter = 1000,)"
   ]
  },
  {
   "cell_type": "code",
   "execution_count": null,
   "id": "08d4f650-5d2c-4ba1-9423-9e17a68445dc",
   "metadata": {},
   "outputs": [],
   "source": [
    "param_grid = {\n",
    "    'hidden_layer_sizes': [(30, 15, 10)],\n",
    "    'activation': ['tanh', 'relu'],\n",
    "    'solver': ['lbfgs', 'adam'],\n",
    "    'alpha': [0.1,0.4, 0.5, 0.6],\n",
    "}"
   ]
  },
  {
   "cell_type": "code",
   "execution_count": null,
   "id": "135abe1f-56f8-4007-9c5b-73ef5b57b751",
   "metadata": {
    "tags": []
   },
   "outputs": [],
   "source": [
    "grid = GridSearchCV(MLPR_tuning, param_grid, n_jobs= -1, cv=5)\n",
    "#grid.fit(X_train, y_train)"
   ]
  },
  {
   "cell_type": "code",
   "execution_count": null,
   "id": "fb8e4f11-15fb-4387-b183-58e910de6c7f",
   "metadata": {
    "tags": []
   },
   "outputs": [],
   "source": [
    "grid.best_score_, grid.best_params_"
   ]
  },
  {
   "cell_type": "code",
   "execution_count": 14,
   "id": "b2d26130-39d8-427b-adaf-12761611016a",
   "metadata": {},
   "outputs": [],
   "source": [
    "tuned_MLPR = MLPRegressor(random_state=1,\n",
    "                     activation = 'tanh',\n",
    "                     alpha = 0.6,\n",
    "                     hidden_layer_sizes = (30, 15, 10),\n",
    "                     learning_rate = 'constant',\n",
    "                     max_iter = 1000,\n",
    "                     solver = 'adam'\n",
    "                    )\n",
    "\n",
    "tuned_fit = tuned_MLPR.fit(X_train, y_train)"
   ]
  },
  {
   "cell_type": "code",
   "execution_count": null,
   "id": "07e3d5e7-952d-4736-9e67-18bfe6d5db9b",
   "metadata": {},
   "outputs": [],
   "source": [
    "tuned_fit.score(X_test, y_test)"
   ]
  },
  {
   "cell_type": "markdown",
   "id": "232dec27-2eb1-41a6-9cb2-4d4c872e96ea",
   "metadata": {},
   "source": [
    "# Post Processing"
   ]
  },
  {
   "cell_type": "code",
   "execution_count": 69,
   "id": "00b62c6e-6d1d-4bbb-8b70-a7fcc2dc1868",
   "metadata": {},
   "outputs": [
    {
     "data": {
      "image/png": "[encoded data removed]",
      "text/plain": [
       "<Figure size 800x500 with 1 Axes>"
      ]
     },
     "metadata": {},
     "output_type": "display_data"
    }
   ],
   "source": [
    "fig, ax = plt.subplots(figsize = (8,5), dpi=100)\n",
    "\n",
    "ax.plot(tuned_fit.loss_curve_)\n",
    "ax.set(title = 'Loss Curve for MLPR Optimization for Core Damage', xlabel = 'Number of Iterations', ylabel = 'Loss')\n",
    "plt.show()\n",
    "\n",
    "fig.savefig(\"images/MLPR_loss_curve_core.svg\", dpi=300)"
   ]
  },
  {
   "cell_type": "code",
   "execution_count": null,
   "id": "a05c06b6-7899-4cbb-9890-1c0a66b8897b",
   "metadata": {},
   "outputs": [],
   "source": [
    "RNA1_MAE = metrics.mean_absolute_error(y_test, tuned_fit.predict(X_test))\n",
    "RNA2_MAE = metrics.mean_absolute_error(y_test, regr.predict(X_test))\n",
    "\n",
    "RNA1_MAE, RNA2_MAE"
   ]
  },
  {
   "cell_type": "code",
   "execution_count": null,
   "id": "e7b6be48-1ffb-450b-ba97-f47f3f3e7730",
   "metadata": {},
   "outputs": [],
   "source": [
    "RNA1_MSE = metrics.mean_squared_error(y_test, tuned_fit.predict(X_test))\n",
    "RNA2_MSE = metrics.mean_squared_error(y_test, regr.predict(X_test))\n",
    "\n",
    "RNA1_MSE, RNA2_MSE"
   ]
  },
  {
   "cell_type": "code",
   "execution_count": null,
   "id": "a3c89a46-b7cd-4ff7-95b2-2da798ce0c50",
   "metadata": {},
   "outputs": [],
   "source": [
    "RNA1_r2 = metrics.r2_score(y_test, tuned_fit.predict(X_test))\n",
    "RNA2_r2 = metrics.r2_score(y_test, regr.predict(X_test))\n",
    "\n",
    "RNA1_r2, RNA2_r2"
   ]
  },
  {
   "cell_type": "code",
   "execution_count": null,
   "id": "7ce159cf-9262-484d-ba95-06d97bb88b32",
   "metadata": {},
   "outputs": [],
   "source": [
    "RNA1_MAPE = metrics.mean_absolute_percentage_error(y_test, tuned_fit.predict(X_test))\n",
    "RNA2_MAPE = metrics.mean_absolute_percentage_error(y_test, regr.predict(X_test))\n",
    "\n",
    "RNA1_MAPE, RNA2_MAPE"
   ]
  },
  {
   "cell_type": "code",
   "execution_count": 159,
   "id": "e45f3d73-6498-416f-8577-5d0d7e8021b6",
   "metadata": {},
   "outputs": [],
   "source": [
    "from yellowbrick.regressor import ResidualsPlot\n",
    "from yellowbrick.regressor import PredictionError\n",
    "import statsmodels.stats.api as sms\n",
    "from scipy import stats\n",
    "from scipy.stats import norm, ks_2samp"
   ]
  },
  {
   "cell_type": "markdown",
   "id": "2975ab7e-636c-4845-8dbb-85ee60a9da81",
   "metadata": {},
   "source": [
    "x"
   ]
  },
  {
   "cell_type": "code",
   "execution_count": 289,
   "id": "13f72fdd-d8c3-4052-a407-01da8600e953",
   "metadata": {},
   "outputs": [],
   "source": [
    "tuned_MLPR = MLPRegressor(random_state=1,\n",
    "                     activation = 'tanh',\n",
    "                     alpha = 0.6,\n",
    "                     hidden_layer_sizes = (30, 15, 10),\n",
    "                     learning_rate = 'constant',\n",
    "                     max_iter = 1000,\n",
    "                     solver = 'adam'\n",
    "                    )\n",
    "\n",
    "tuned_fit = tuned_MLPR.fit(X_train, y_train)"
   ]
  },
  {
   "cell_type": "code",
   "execution_count": 238,
   "id": "e83f6cf6-6d96-4546-90da-030b78f08ab2",
   "metadata": {},
   "outputs": [
    {
     "data": {
      "image/png": "[encoded data removed]",
      "text/plain": [
       "<Figure size 432x288 with 1 Axes>"
      ]
     },
     "metadata": {},
     "output_type": "display_data"
    }
   ],
   "source": [
    "fig, ax = plt.subplots(figsize=(6, 4))\n",
    "resids = y_test - tuned_fit.predict(X_test)\n",
    "pd.Series(resids.T[0], name=\"residuals\").plot.hist(bins=20, ax=ax, title=\"Residual Histogram for $x$ Parameter\")\n",
    "\n",
    "fig.savefig(\"images/MLPR_residual_x_core.svg\", dpi=300)"
   ]
  },
  {
   "cell_type": "code",
   "execution_count": null,
   "id": "00fdd2f1-7074-4c55-af11-9b43d3936cb0",
   "metadata": {},
   "outputs": [],
   "source": [
    "fig, ax = plt.subplots(figsize=(6, 4))\n",
    "_ = stats.probplot(resids.T[0], plot=ax)\n",
    "\n",
    "ax.set(title='Probability Plot for $x$ Parameter')\n",
    "\n",
    "fig.savefig(\"images/MLPR_probability_x_core.svg\", dpi=300)"
   ]
  },
  {
   "cell_type": "code",
   "execution_count": 245,
   "id": "555f924d-cd10-42fe-9f18-b05110ed01a4",
   "metadata": {},
   "outputs": [
    {
     "data": {
      "text/plain": [
       "(0.07505976095617531, 0.5125328399176484)"
      ]
     },
     "execution_count": 245,
     "metadata": {},
     "output_type": "execute_result"
    }
   ],
   "source": [
    "y = resids.T[0]\n",
    "p = []\n",
    "s = []\n",
    "for i in range(50):\n",
    "    x = stats.norm.rvs(size=len(y), scale = np.std(y))\n",
    "    p.append(ks_2samp(x,y).pvalue)\n",
    "    s.append(ks_2samp(x,y).statistic)\n",
    "    \n",
    "np.mean(s), np.mean(p)"
   ]
  },
  {
   "cell_type": "code",
   "execution_count": 240,
   "id": "b1869c24-4abe-4f80-b464-e5eac9148337",
   "metadata": {},
   "outputs": [
    {
     "data": {
      "image/png": "[encoded data removed]",
      "text/plain": [
       "<Figure size 432x432 with 1 Axes>"
      ]
     },
     "metadata": {},
     "output_type": "display_data"
    }
   ],
   "source": [
    "tuned_MLPR = MLPRegressor(random_state=1,\n",
    "                     activation = 'tanh',\n",
    "                     alpha = 0.6,\n",
    "                     hidden_layer_sizes = (30, 15, 10),\n",
    "                     learning_rate = 'constant',\n",
    "                     max_iter = 1000,\n",
    "                     solver = 'adam'\n",
    "                    )\n",
    "\n",
    "fig, ax = plt.subplots(figsize=(6, 6))\n",
    "pev = PredictionError(tuned_MLPR, title='Prediction Error for $x$ Parameter')\n",
    "pev.fit(X_train, y_train.T[0])\n",
    "pev.score(X_test, y_test.T[0])\n",
    "\n",
    "pev.show()\n",
    "\n",
    "fig.savefig(\"images/MLPR_prediction_x_core.svg\", dpi=300)"
   ]
  },
  {
   "cell_type": "markdown",
   "id": "56d9db8e-9075-4baf-ad30-1bbf9ae03621",
   "metadata": {},
   "source": [
    "y"
   ]
  },
  {
   "cell_type": "code",
   "execution_count": 221,
   "id": "5997e8e8-18b2-499e-ade6-c1e83115a33a",
   "metadata": {},
   "outputs": [
    {
     "data": {
      "image/png": "[encoded data removed]",
      "text/plain": [
       "<Figure size 432x288 with 1 Axes>"
      ]
     },
     "metadata": {},
     "output_type": "display_data"
    }
   ],
   "source": [
    "fig, ax = plt.subplots(figsize=(6, 4))\n",
    "resids = y_test - tuned_fit.predict(X_test)\n",
    "pd.Series(resids.T[1], name=\"residuals\").plot.hist(bins=20, ax=ax, title=\"Residual Histogram for $y$ Parameter\")\n",
    "\n",
    "fig.savefig(\"images/MLPR_residual_y_core.svg\", dpi=300)"
   ]
  },
  {
   "cell_type": "code",
   "execution_count": null,
   "id": "76a11886-29d9-4af0-a173-3fe2ed196bf0",
   "metadata": {},
   "outputs": [],
   "source": [
    "fig, ax = plt.subplots(figsize=(6, 4))\n",
    "_ = stats.probplot(resids.T[1], plot=ax)\n",
    "\n",
    "ax.set(title='Probability Plot for $y$ Parameter')\n",
    "\n",
    "fig.savefig(\"images/MLPR_probability_y_core.svg\", dpi=300)"
   ]
  },
  {
   "cell_type": "code",
   "execution_count": 308,
   "id": "7e961fdf-bcf7-49ec-89e1-054e14858002",
   "metadata": {},
   "outputs": [
    {
     "data": {
      "text/plain": [
       "(0.10756972111553786, 0.20625312757463127)"
      ]
     },
     "execution_count": 308,
     "metadata": {},
     "output_type": "execute_result"
    }
   ],
   "source": [
    "y = resids.T[1]\n",
    "p = []\n",
    "s = []\n",
    "for i in range(50):\n",
    "    x = stats.norm.rvs(size=len(y), scale = np.std(y))\n",
    "    p.append(ks_2samp(x,y).pvalue)\n",
    "    s.append(ks_2samp(x,y).statistic)\n",
    "    \n",
    "np.mean(s), np.mean(p)"
   ]
  },
  {
   "cell_type": "code",
   "execution_count": null,
   "id": "10eefa56-23fb-4257-b343-53ad6c720f5b",
   "metadata": {},
   "outputs": [],
   "source": [
    "tuned_MLPR = MLPRegressor(random_state=1,\n",
    "                     activation = 'tanh',\n",
    "                     alpha = 0.6,\n",
    "                     hidden_layer_sizes = (60, 50),\n",
    "                     learning_rate = 'constant',\n",
    "                     max_iter = 1000,\n",
    "                     solver = 'adam'\n",
    "                    )\n",
    "\n",
    "fig, ax = plt.subplots(figsize=(6, 6))\n",
    "pev = PredictionError(tuned_MLPR , title='Prediction Error for $y$ Parameter')\n",
    "pev.fit(X_train, y_train.T[1])\n",
    "pev.score(X_test, y_test.T[1])\n",
    "pev.show()\n",
    "\n",
    "fig.savefig(\"images/MLPR_prediction_y_core.svg\", dpi=300)"
   ]
  },
  {
   "cell_type": "markdown",
   "id": "4763785e-cd25-4737-ba54-dcb314eb1cdb",
   "metadata": {},
   "source": [
    "theta z"
   ]
  },
  {
   "cell_type": "code",
   "execution_count": null,
   "id": "2d50c5e2-b976-4e6f-91dd-0c5241b86b67",
   "metadata": {},
   "outputs": [],
   "source": [
    "tuned_MLPR = MLPRegressor(random_state=1,\n",
    "                     activation = 'tanh',\n",
    "                     alpha = 0.6,\n",
    "                     hidden_layer_sizes = (60, 50),\n",
    "                     learning_rate = 'constant',\n",
    "                     max_iter = 1000,\n",
    "                     solver = 'adam'\n",
    "                    )"
   ]
  },
  {
   "cell_type": "code",
   "execution_count": 258,
   "id": "8101eeec-5301-4273-ad76-404f3c6616e1",
   "metadata": {},
   "outputs": [
    {
     "data": {
      "image/png": "[encoded data removed]",
      "text/plain": [
       "<Figure size 432x288 with 1 Axes>"
      ]
     },
     "metadata": {},
     "output_type": "display_data"
    }
   ],
   "source": [
    "fig, ax = plt.subplots(figsize=(6, 4))\n",
    "resids = y_test - tuned_fit.predict(X_test)\n",
    "pd.Series(resids.T[2], name=\"residuals\").plot.hist(bins=20, ax=ax, title=\"Residual Histogram for $theta_z$ Parameter\")\n",
    "\n",
    "fig.savefig(\"images/MLPR_residual_theta_z_core.svg\", dpi=300)"
   ]
  },
  {
   "cell_type": "code",
   "execution_count": 257,
   "id": "95f85ef7-061f-4f4a-b178-5e5c9f8e5e1b",
   "metadata": {},
   "outputs": [
    {
     "data": {
      "image/png": "[encoded data removed]",
      "text/plain": [
       "<Figure size 432x288 with 1 Axes>"
      ]
     },
     "metadata": {},
     "output_type": "display_data"
    }
   ],
   "source": [
    "fig, ax = plt.subplots(figsize=(6, 4))\n",
    "_ = stats.probplot(resids.T[2], plot=ax)\n",
    "\n",
    "ax.set(title='Probability Plot for $theta_z$ Parameter')\n",
    "\n",
    "fig.savefig(\"images/MLPR_probability_theta_z_core.svg\", dpi=300)"
   ]
  },
  {
   "cell_type": "code",
   "execution_count": 256,
   "id": "2090d5de-971e-45dd-88ce-639b41055fd2",
   "metadata": {},
   "outputs": [
    {
     "data": {
      "text/plain": [
       "(0.069402390438247, 0.5901020916169137)"
      ]
     },
     "execution_count": 256,
     "metadata": {},
     "output_type": "execute_result"
    }
   ],
   "source": [
    "y = resids.T[2]\n",
    "p = []\n",
    "s = []\n",
    "for i in range(50):\n",
    "    x = stats.norm.rvs(size=len(y), scale = np.std(y))\n",
    "    p.append(ks_2samp(x,y).pvalue)\n",
    "    s.append(ks_2samp(x,y).statistic)\n",
    "    \n",
    "np.mean(s), np.mean(p)"
   ]
  },
  {
   "cell_type": "code",
   "execution_count": null,
   "id": "036dbb3b-a4b4-41bb-9477-9208f90a3724",
   "metadata": {},
   "outputs": [],
   "source": [
    "tuned_MLPR = MLPRegressor(random_state=1,\n",
    "                     activation = 'tanh',\n",
    "                     alpha = 0.6,\n",
    "                     hidden_layer_sizes = (60, 50),\n",
    "                     learning_rate = 'constant',\n",
    "                     max_iter = 1000,\n",
    "                     solver = 'adam'\n",
    "                    )\n",
    "\n",
    "fig, ax = plt.subplots(figsize=(6, 6))\n",
    "pev = PredictionError(tuned_MLPR, title = 'Prediction Error for $theta_z$ Parameter')\n",
    "pev.fit(X_train, y_train.T[2])\n",
    "pev.score(X_test, y_test.T[2])\n",
    "pev.show()\n",
    "\n",
    "fig.savefig(\"images/MLPR_prediction_theta_z_core.svg\", dpi=300)"
   ]
  },
  {
   "cell_type": "markdown",
   "id": "9874be21-73c6-4c60-9b2a-d6c3f31e1f3f",
   "metadata": {},
   "source": [
    "c"
   ]
  },
  {
   "cell_type": "code",
   "execution_count": null,
   "id": "ec761d70-e8c8-4e3c-809c-425712fcecc8",
   "metadata": {},
   "outputs": [],
   "source": [
    "tuned_MLPR = MLPRegressor(random_state=1,\n",
    "                     activation = 'tanh',\n",
    "                     alpha = 0.6,\n",
    "                     hidden_layer_sizes = (60, 50),\n",
    "                     learning_rate = 'constant',\n",
    "                     max_iter = 1000,\n",
    "                     solver = 'adam'\n",
    "                    )"
   ]
  },
  {
   "cell_type": "code",
   "execution_count": null,
   "id": "0d8863f2-9f54-4549-a503-183fa75208e3",
   "metadata": {},
   "outputs": [],
   "source": [
    "fig, ax = plt.subplots(figsize=(6, 4))\n",
    "resids = y_test - tuned_fit.predict(X_test)\n",
    "pd.Series(resids.T[3], name=\"residuals\").plot.hist(bins=20, ax=ax, title=\"Residual Histogram for $c$ Parameter\")\n",
    "\n",
    "fig.savefig(\"images/MLPR_residual_c_core.svg\", dpi=300)"
   ]
  },
  {
   "cell_type": "code",
   "execution_count": null,
   "id": "6dc3baad-ebbf-4432-895c-d501e5c3e7a3",
   "metadata": {},
   "outputs": [],
   "source": [
    "fig, ax = plt.subplots(figsize=(6, 4))\n",
    "_ = stats.probplot(resids.T[3], plot=ax)\n",
    "\n",
    "ax.set(title = 'Probability Plot for $c$ Parameter')\n",
    "\n",
    "fig.savefig(\"images/MLPR_probability_c_core.svg\", dpi=300)"
   ]
  },
  {
   "cell_type": "code",
   "execution_count": 263,
   "id": "5c740576-f68f-4adc-909b-7468c39187e1",
   "metadata": {},
   "outputs": [
    {
     "data": {
      "text/plain": [
       "(0.09689243027888444, 0.28838830507705215)"
      ]
     },
     "execution_count": 263,
     "metadata": {},
     "output_type": "execute_result"
    }
   ],
   "source": [
    "y = resids.T[3]\n",
    "p = []\n",
    "s = []\n",
    "for i in range(50):\n",
    "    x = stats.norm.rvs(size=len(y), scale = np.std(y))\n",
    "    p.append(ks_2samp(x,y).pvalue)\n",
    "    s.append(ks_2samp(x,y).statistic)\n",
    "    \n",
    "np.mean(s), np.mean(p)"
   ]
  },
  {
   "cell_type": "code",
   "execution_count": null,
   "id": "9f68d111-a59c-4fa2-a778-e608208fa179",
   "metadata": {},
   "outputs": [],
   "source": [
    "tuned_MLPR = MLPRegressor(random_state=1,\n",
    "                     activation = 'tanh',\n",
    "                     alpha = 0.6,\n",
    "                     hidden_layer_sizes = (60, 50),\n",
    "                     learning_rate = 'constant',\n",
    "                     max_iter = 1000,\n",
    "                     solver = 'adam'\n",
    "                    )\n",
    "\n",
    "fig, ax = plt.subplots(figsize=(6, 6))\n",
    "pev = PredictionError(tuned_MLPR, title = 'Prediction Error for $c$ Parameter')\n",
    "pev.fit(X_train, y_train.T[3])\n",
    "pev.score(X_test, y_test.T[3])\n",
    "pev.show()\n",
    "\n",
    "fig.savefig(\"images/MLPR_prediction_c_core.svg\", dpi=300)"
   ]
  },
  {
   "cell_type": "markdown",
   "id": "e093dc5d-5008-4479-800c-4466c6fc8dc5",
   "metadata": {},
   "source": [
    "r"
   ]
  },
  {
   "cell_type": "code",
   "execution_count": 283,
   "id": "06dab7a5-174a-4bbf-bcfd-8fec4297e117",
   "metadata": {},
   "outputs": [
    {
     "data": {
      "image/png": "[encoded data removed]",
      "text/plain": [
       "<Figure size 432x288 with 1 Axes>"
      ]
     },
     "metadata": {},
     "output_type": "display_data"
    }
   ],
   "source": [
    "tuned_MLPR = MLPRegressor(random_state=1,\n",
    "                     activation = 'tanh',\n",
    "                     alpha = 0.6,\n",
    "                     hidden_layer_sizes = (60, 50),\n",
    "                     learning_rate = 'constant',\n",
    "                     max_iter = 1000,\n",
    "                     solver = 'adam'\n",
    "                    )\n",
    "\n",
    "fig, ax = plt.subplots(figsize=(6, 4))\n",
    "resids = y_test - tuned_fit.predict(X_test)\n",
    "pd.Series(resids.T[4], name=\"residuals\").plot.hist(bins=50, ax=ax, title=\"Residual Histogram for $r$ Parameter\")\n",
    "\n",
    "fig.savefig(\"images/MLPR_residual_r_core.svg\", dpi=300)"
   ]
  },
  {
   "cell_type": "code",
   "execution_count": null,
   "id": "4ee98e74-c6c2-4b86-97a4-b5efbf339795",
   "metadata": {},
   "outputs": [],
   "source": [
    "fig, ax = plt.subplots(figsize=(6, 4))\n",
    "_ = stats.probplot(resids.T[4], plot=ax)\n",
    "\n",
    "ax.set(title='Probability Plot for $r$ Parameter')\n",
    "\n",
    "fig.savefig(\"images/MLPR_probability_r_core.svg\", dpi=300)"
   ]
  },
  {
   "cell_type": "code",
   "execution_count": 287,
   "id": "a93410b5-8f10-463c-ba0e-5a6400db87a0",
   "metadata": {},
   "outputs": [
    {
     "data": {
      "image/png": "[encoded data removed]",
      "text/plain": [
       "<Figure size 576x396 with 1 Axes>"
      ]
     },
     "metadata": {},
     "output_type": "display_data"
    }
   ],
   "source": [
    "plt.hist(x, bins=50)\n",
    "#plt.hist(y, bins=50)\n",
    "plt.show()"
   ]
  },
  {
   "cell_type": "code",
   "execution_count": 285,
   "id": "7160778c-40aa-445f-9fe2-ffb41cabe266",
   "metadata": {},
   "outputs": [
    {
     "data": {
      "text/plain": [
       "(0.08358565737051793, 0.3926886508698893)"
      ]
     },
     "execution_count": 285,
     "metadata": {},
     "output_type": "execute_result"
    }
   ],
   "source": [
    "y = resids.T[4]\n",
    "p = []\n",
    "s = []\n",
    "for i in range(50):\n",
    "    x = stats.norm.rvs(size=len(y), scale = np.std(y))\n",
    "    p.append(ks_2samp(x,y).pvalue)\n",
    "    s.append(ks_2samp(x,y).statistic)\n",
    "    \n",
    "np.mean(s), np.mean(p)"
   ]
  },
  {
   "cell_type": "code",
   "execution_count": null,
   "id": "fdd3fbed-bbed-481a-a933-8bc09fcc13f1",
   "metadata": {},
   "outputs": [],
   "source": [
    "tuned_MLPR = MLPRegressor(random_state=1,\n",
    "                     activation = 'tanh',\n",
    "                     alpha = 0.6,\n",
    "                     hidden_layer_sizes = (60, 50),\n",
    "                     learning_rate = 'constant',\n",
    "                     max_iter = 1000,\n",
    "                     solver = 'adam'\n",
    "                    )\n",
    "\n",
    "fig, ax = plt.subplots(figsize=(6, 6))\n",
    "pev = PredictionError(tuned_MLPR, title = 'Prediction Errror for $r$ Parameter')\n",
    "pev.fit(X_train, y_train.T[4])\n",
    "pev.score(X_test, y_test.T[4])\n",
    "pev.show()\n",
    "\n",
    "fig.savefig(\"images/MLPR_prediction_r_core.svg\", dpi=300)"
   ]
  },
  {
   "cell_type": "markdown",
   "id": "dc76ae81-9890-4ab6-8310-5af1adf3294c",
   "metadata": {},
   "source": [
    "z"
   ]
  },
  {
   "cell_type": "code",
   "execution_count": null,
   "id": "3d309e7f-dba7-4325-a8a1-e9df8ae328fc",
   "metadata": {},
   "outputs": [],
   "source": [
    "tuned_MLPR = MLPRegressor(random_state=1,\n",
    "                     activation = 'tanh',\n",
    "                     alpha = 0.6,\n",
    "                     hidden_layer_sizes = (60, 50),\n",
    "                     learning_rate = 'constant',\n",
    "                     max_iter = 1000,\n",
    "                     solver = 'adam'\n",
    "                    )\n",
    "\n",
    "fig, ax = plt.subplots(figsize=(6, 4))\n",
    "resids = y_test - tuned_fit.predict(X_test)\n",
    "pd.Series(resids.T[5], name=\"residuals\").plot.hist(bins=20, ax=ax, title=\"Residual Histogram for $z$ Parameter\")\n",
    "\n",
    "fig.savefig(\"images/MLPR_residual_z_core.svg\", dpi=300)"
   ]
  },
  {
   "cell_type": "code",
   "execution_count": null,
   "id": "deb912e7-873e-496d-a13a-1cec1007fba9",
   "metadata": {},
   "outputs": [],
   "source": [
    "fig, ax = plt.subplots(figsize=(6, 4))\n",
    "_ = stats.probplot(resids.T[5], plot=ax)\n",
    "\n",
    "ax.set(title='Probability Plot for $z$ Parameter')\n",
    "\n",
    "fig.savefig(\"images/MLPR_probability_z_core.svg\", dpi=300)"
   ]
  },
  {
   "cell_type": "code",
   "execution_count": 276,
   "id": "8ae24b9e-44b8-4480-82f8-6e501613458f",
   "metadata": {},
   "outputs": [
    {
     "data": {
      "text/plain": [
       "(0.08884462151394422, 0.33891393138924)"
      ]
     },
     "execution_count": 276,
     "metadata": {},
     "output_type": "execute_result"
    }
   ],
   "source": [
    "y = resids.T[5]\n",
    "p = []\n",
    "s = []\n",
    "for i in range(50):\n",
    "    x = stats.norm.rvs(size=len(y), scale = np.std(y))\n",
    "    p.append(ks_2samp(x,y).pvalue)\n",
    "    s.append(ks_2samp(x,y).statistic)\n",
    "    \n",
    "np.mean(s), np.mean(p)"
   ]
  },
  {
   "cell_type": "code",
   "execution_count": null,
   "id": "f0747967-0004-48d4-aa71-2c98c9e1e90c",
   "metadata": {},
   "outputs": [],
   "source": [
    "tuned_MLPR = MLPRegressor(random_state=1,\n",
    "                     activation = 'tanh',\n",
    "                     alpha = 0.6,\n",
    "                     hidden_layer_sizes = (60, 50),\n",
    "                     learning_rate = 'constant',\n",
    "                     max_iter = 1000,\n",
    "                     solver = 'adam'\n",
    "                    )\n",
    "\n",
    "fig, ax = plt.subplots(figsize=(6, 6))\n",
    "pev = PredictionError(tuned_MLPR, title = 'Prediction Errror for $z$ Parameter')\n",
    "pev.fit(X_train, y_train.T[5])\n",
    "pev.score(X_test, y_test.T[5])\n",
    "pev.show()\n",
    "\n",
    "fig.savefig(\"images/MLPR_prediction_z_core.svg\", dpi=300)"
   ]
  },
  {
   "cell_type": "markdown",
   "id": "bf1357ac-5926-4c59-90c2-7fd17d1990e2",
   "metadata": {},
   "source": [
    "theta y"
   ]
  },
  {
   "cell_type": "code",
   "execution_count": 291,
   "id": "f2a421af-df28-46e9-bd2a-6786c3208953",
   "metadata": {},
   "outputs": [
    {
     "data": {
      "image/png": "[encoded data removed]",
      "text/plain": [
       "<Figure size 432x288 with 1 Axes>"
      ]
     },
     "metadata": {},
     "output_type": "display_data"
    }
   ],
   "source": [
    "tuned_MLPR = MLPRegressor(random_state=1,\n",
    "                     activation = 'tanh',\n",
    "                     alpha = 0.6,\n",
    "                     hidden_layer_sizes = (60, 50),\n",
    "                     learning_rate = 'constant',\n",
    "                     max_iter = 1000,\n",
    "                     solver = 'adam'\n",
    "                    )\n",
    "\n",
    "fig, ax = plt.subplots(figsize=(6, 4))\n",
    "resids = y_test - tuned_fit.predict(X_test)\n",
    "pd.Series(resids.T[6], name=\"residuals\").plot.hist(bins=20, ax=ax, title=\"Residual Histogram for $theta_y$ Parameter\")\n",
    "\n",
    "fig.savefig(\"images/MLPR_residual_theta_y_core.svg\", dpi=300)"
   ]
  },
  {
   "cell_type": "code",
   "execution_count": 290,
   "id": "6f5944ce-ad44-4fba-8cd7-408414c13401",
   "metadata": {},
   "outputs": [
    {
     "data": {
      "image/png": "[encoded data removed]",
      "text/plain": [
       "<Figure size 432x288 with 1 Axes>"
      ]
     },
     "metadata": {},
     "output_type": "display_data"
    }
   ],
   "source": [
    "fig, ax = plt.subplots(figsize=(6, 4))\n",
    "_ = stats.probplot(resids.T[6], plot=ax)\n",
    "\n",
    "ax.set(title='Probability Plot for $theta_y$ Parameter')\n",
    "\n",
    "fig.savefig(\"images/MLPR_probability_theta_y_core.svg\", dpi=300)"
   ]
  },
  {
   "cell_type": "code",
   "execution_count": 293,
   "id": "14fb4005-e052-4da6-b5e7-9f911d134646",
   "metadata": {},
   "outputs": [
    {
     "data": {
      "text/plain": [
       "(0.09258964143426293, 0.27869874083240104)"
      ]
     },
     "execution_count": 293,
     "metadata": {},
     "output_type": "execute_result"
    }
   ],
   "source": [
    "y = resids.T[6]\n",
    "p = []\n",
    "s = []\n",
    "for i in range(50):\n",
    "    x = stats.norm.rvs(size=len(y), scale = np.std(y))\n",
    "    p.append(ks_2samp(x,y).pvalue)\n",
    "    s.append(ks_2samp(x,y).statistic)\n",
    "    \n",
    "np.mean(s), np.mean(p)"
   ]
  },
  {
   "cell_type": "code",
   "execution_count": null,
   "id": "62690740-c372-424d-b686-c1266642f20d",
   "metadata": {},
   "outputs": [],
   "source": [
    "tuned_MLPR = MLPRegressor(random_state=1,\n",
    "                     activation = 'tanh',\n",
    "                     alpha = 0.6,\n",
    "                     hidden_layer_sizes = (60, 50),\n",
    "                     learning_rate = 'constant',\n",
    "                     max_iter = 1000,\n",
    "                     solver = 'adam'\n",
    "                    )\n",
    "\n",
    "fig, ax = plt.subplots(figsize=(6, 6))\n",
    "pev = PredictionError(tuned_MLPR, title = 'Prediction Errror for $theta_y$ Parameter')\n",
    "pev.fit(X_train, y_train.T[6])\n",
    "pev.score(X_test, y_test.T[6])\n",
    "pev.show()\n",
    "\n",
    "fig.savefig(\"images/MLPR_prediction_theta_y_core.svg\", dpi=300)"
   ]
  },
  {
   "cell_type": "markdown",
   "id": "54032a74-f222-419e-91f8-81b40e4fe171",
   "metadata": {},
   "source": [
    "# 3D plot"
   ]
  },
  {
   "cell_type": "code",
   "execution_count": 10,
   "id": "9dd45d4b-a98b-4d7a-8cb3-5f7880651198",
   "metadata": {},
   "outputs": [],
   "source": [
    "tuned_MLPR = MLPRegressor(random_state=1,\n",
    "                     activation = 'tanh',\n",
    "                     alpha = 0.6,\n",
    "                     hidden_layer_sizes = (30, 15, 10),\n",
    "                     learning_rate = 'constant',\n",
    "                     max_iter = 1000,\n",
    "                     solver = 'adam'\n",
    "                    )\n",
    "\n",
    "tuned_fit = tuned_MLPR.fit(X_train, y_train)"
   ]
  },
  {
   "cell_type": "code",
   "execution_count": 11,
   "id": "f4183a3c-e81d-4734-ada7-15485183c2a9",
   "metadata": {},
   "outputs": [],
   "source": [
    "y_predictions = std_y.inverse_transform(tuned_fit.predict(X_test))\n",
    "y_real = std_y.inverse_transform(y_test)"
   ]
  },
  {
   "cell_type": "code",
   "execution_count": 12,
   "id": "204bd48d-237a-451b-9d22-f16835a8e1c9",
   "metadata": {},
   "outputs": [],
   "source": [
    "predictions = np.hstack((y_real, y_predictions))"
   ]
  },
  {
   "cell_type": "code",
   "execution_count": 13,
   "id": "64414998-f336-49ac-96cd-7c4a66eea4bc",
   "metadata": {},
   "outputs": [],
   "source": [
    "def plot_pred(dam_to_plot):\n",
    "    dam_real = predictions[dam_to_plot, :7]\n",
    "    dam_pred = predictions[dam_to_plot, 7:]\n",
    "    plot_damage(dam_pred, color = 'red')\n",
    "    plot_damage(dam_real, color = 'blue')\n",
    "    plt.title('')\n",
    "    #plt.legend(['Plate','Predicted', '','Real'], loc = 'lower right')\n",
    "    \n",
    "    return None\n",
    "\n",
    "dams = iter(np.arange(1, 300, 1))"
   ]
  },
  {
   "cell_type": "code",
   "execution_count": 41,
   "id": "a1edf7c7-9e08-4852-8f49-a360544be1e1",
   "metadata": {},
   "outputs": [],
   "source": [
    "def plot_pred2(dam_to_plot):\n",
    "    dam_real = predictions[dam_to_plot, :7]\n",
    "    dam_pred = predictions[dam_to_plot, 7:]\n",
    "    plot_damage2(dam_pred, color = 'red')\n",
    "    plot_damage2(dam_real, color = 'blue')\n",
    "    #plt.legend(['Plate','Predicted', '','Real'], loc = 'lower right')\n",
    "    plt.xticks([0, 0.0125], rotation = 45)\n",
    "    plt.xlim(-0.01, 0.0225)\n",
    "    plt.yticks([])\n",
    "    plt.title('')\n",
    "    return None\n",
    "\n",
    "dams = iter(np.arange(1, 300, 1))"
   ]
  },
  {
   "cell_type": "code",
   "execution_count": 66,
   "id": "4ea61801-eb2e-409c-b9e1-47e60f58f6c0",
   "metadata": {},
   "outputs": [],
   "source": [
    "d = next(dams)"
   ]
  },
  {
   "cell_type": "code",
   "execution_count": 67,
   "id": "c7c8545c-39d2-4332-be0a-310cfcb1615a",
   "metadata": {},
   "outputs": [
    {
     "name": "stderr",
     "output_type": "stream",
     "text": [
      "C:\\Users\\Ian\\AppData\\Local\\Temp\\ipykernel_15100\\295466396.py:3: UserWarning: Tight layout not applied. The left and right margins cannot be made large enough to accommodate all axes decorations.\n",
      "  plt.savefig('images/corez_dam9.svg')\n"
     ]
    },
    {
     "data": {
      "image/png": "[encoded data removed]",
      "text/plain": [
       "<Figure size 43.2x432 with 1 Axes>"
      ]
     },
     "metadata": {},
     "output_type": "display_data"
    }
   ],
   "source": [
    "plot_pred2(d)\n",
    "\n",
    "plt.savefig('images/corez_dam9.svg')"
   ]
  },
  {
   "cell_type": "code",
   "execution_count": 68,
   "id": "428051f0-355e-4852-9909-eb3acc8ee6fd",
   "metadata": {},
   "outputs": [
    {
     "data": {
      "image/png": "[encoded data removed]",
      "text/plain": [
       "<Figure size 432x432 with 1 Axes>"
      ]
     },
     "metadata": {},
     "output_type": "display_data"
    }
   ],
   "source": [
    "plot_pred(d)\n",
    "plt.savefig('images/corex_dam9.svg')"
   ]
  },
  {
   "cell_type": "code",
   "execution_count": null,
   "id": "fb70dcb0-8420-4fe9-91c2-6a67d4770aba",
   "metadata": {},
   "outputs": [],
   "source": [
    "dams_to_plot = 7\n",
    "dam_pred = predictions[:dams_to_plot, :5]\n",
    "dam_real = predictions[:dams_to_plot, 5:]"
   ]
  },
  {
   "cell_type": "code",
   "execution_count": null,
   "id": "87897340-2242-47ee-b258-865e2a5ef1ec",
   "metadata": {},
   "outputs": [],
   "source": [
    "for i in dam_pred:\n",
    "    plot_damage(i, color = 'red')\n",
    "for i in dam_real:\n",
    "    plot_damage(i, color = 'blue')"
   ]
  }
 ],
 "metadata": {
  "kernelspec": {
   "display_name": "Python 3 (ipykernel)",
   "language": "python",
   "name": "python3"
  },
  "language_info": {
   "codemirror_mode": {
    "name": "ipython",
    "version": 3
   },
   "file_extension": ".py",
   "mimetype": "text/x-python",
   "name": "python",
   "nbconvert_exporter": "python",
   "pygments_lexer": "ipython3",
   "version": "3.9.12"
  }
 },
 "nbformat": 4,
 "nbformat_minor": 5
}
