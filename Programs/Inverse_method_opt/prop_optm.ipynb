# -*- coding: utf-8 -*-
"""
Created on Mon May  9 10:58:25 2022

@author: Ian
"""

import os
import pandas as pd
import numpy as np
import prop_optm_fun as fn